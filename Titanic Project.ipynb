{
 "cells": [
  {
   "cell_type": "markdown",
   "id": "533023e0-ccaf-4368-b56b-5a3c36e6a1a2",
   "metadata": {},
   "source": [
    "# RMS Titanic Dataset Exploration"
   ]
  },
  {
   "cell_type": "markdown",
   "id": "079ba81c-31de-48bc-bfb7-9d0d38486a82",
   "metadata": {},
   "source": [
    "<img src='Titanic_Generated.JPG' width=\"700\" height=\"500\" style=\"display: block; margin: 0 auto;\">"
   ]
  },
  {
   "cell_type": "markdown",
   "id": "ba200a50-f27c-429a-9cc4-4951d5755ae6",
   "metadata": {},
   "source": [
    "The Titanic dataset is a classic dataset often used in data science and machine learning to practice data analysis and modeling. This dataset contains information about the passengers and crew of the [RMS Titanic](https://www.encyclopedia-titanica.org/titanic/), including their survival status, demographic details, and ticket information.\n",
    "\n",
    "***Key Variables***:\n",
    "\n",
    "- PassengerId: A unique identifier for each passenger.\n",
    "- Survived: Indicates whether the passenger survived (1) or died (0).\n",
    "- Pclass: Passenger class (1st, 2nd, or 3rd).\n",
    "- Name: Passenger name.\n",
    "- Sex: Male or female.\n",
    "- Age: Age in years.\n",
    "- SibSp: Number of siblings or spouses aboard.\n",
    "- Parch: Number of parents or children aboard.   \n",
    "- Ticket: Ticket number.\n",
    "- Fare: Passenger fare.\n",
    "- Cabin: Cabin number.\n",
    "- Embarked: Port of embarkation (C = Cherbourg, Q = Queenstown, S = Southampton).   \n",
    "\n",
    "***Data Exploration and Preprocessing Goals***:\n",
    "\n",
    "When working with the Titanic dataset, the primary goals for exploration and preprocessing are:\n",
    "\n",
    "1. Understand the data: Gain insights into the distribution of variables, identify missing values, and explore potential relationships between variables.\n",
    "\n",
    "2. Clean and prepare the data: Handle missing values, correct inconsistencies, and transform variables as needed for analysis.\n",
    "\n",
    "3. Feature engineering: Create new features or transform existing ones to improve model performance.\n",
    "\n",
    "\n",
    "***Common Exploration and Preprocessing Tasks***:\n",
    "\n",
    "- Data cleaning:\n",
    "    - Handle missing values (e.g., imputation, deletion).\n",
    "    - Correct inconsistencies or errors in the data.\n",
    "    - Convert data types to appropriate formats (e.g., categorical, numerical).\n",
    "\n",
    "- Data exploration:\n",
    "    - Analyze the distribution of variables (e.g., histograms, box plots).\n",
    "    - Identify outliers or anomalies.\n",
    "    - Explore relationships between variables (e.g., correlation, scatter plots).\n",
    "\n",
    "- Feature engineering:\n",
    "    - Create new features based on existing variables (e.g., extract titles from names).\n",
    "    - Transform variables to improve model performance (e.g., normalization, standardization).\n",
    "\n",
    "\n",
    "By effectively exploring and preprocessing the Titanic dataset, you can lay a strong foundation for further analysis and modeling tasks, such as predicting passenger survival or understanding the factors influencing survival."
   ]
  },
  {
   "cell_type": "markdown",
   "id": "558f4849-5516-4bf4-aa9f-4bc3a8d401fe",
   "metadata": {},
   "source": [
    "### Setup"
   ]
  },
  {
   "cell_type": "code",
   "execution_count": 1,
   "id": "b8754555-061a-4ff1-9bb8-77da13c0e147",
   "metadata": {},
   "outputs": [],
   "source": [
    "import os\n",
    "#The os module provides functions for interacting with the operating system, \n",
    "#such as working with files, directories, and environment variables.\n",
    "\n",
    "import sys\n",
    "#The sys module provides access to system-specific parameters and functions. \n",
    "#It can be used to interact with the Python interpreter, get information about the current environment, \n",
    "#and manipulate the execution of your Python programs.\n",
    "\n",
    "import numpy as np\n",
    "import pandas as pd\n",
    "import matplotlib as mpl\n",
    "import matplotlib.pyplot as plt\n",
    "import seaborn as sns\n",
    "\n",
    "#from IPython.display import clear_output\n",
    "#Imports the clear_output function from the IPython.display module. \n",
    "#This function is specifically used in IPython environments (like Jupyter Notebooks) to clear the output of the current cell.\n",
    "\n",
    "#from six.moves import urllib\n",
    "#The from six.moves import urllib statement imports the urllib module from the six library.\n",
    "#This is a common practice in Python code that aims to be compatible with both Python 2 and Python 3."
   ]
  },
  {
   "cell_type": "markdown",
   "id": "d90f67a6-b526-42d9-a436-fae629fa73e6",
   "metadata": {},
   "source": [
    "### Loading Dataset"
   ]
  },
  {
   "cell_type": "markdown",
   "id": "715c1c37-8622-416c-85dd-67c2795fc5dd",
   "metadata": {},
   "source": [
    "The Dataset used in this notebook is from [kaggle](https://www.kaggle.com/datasets/yasserh/titanic-dataset)"
   ]
  },
  {
   "cell_type": "code",
   "execution_count": 2,
   "id": "6b322f31-12b3-48b2-95ac-c3d99aca9c8a",
   "metadata": {},
   "outputs": [
    {
     "data": {
      "text/html": [
       "<div>\n",
       "<style scoped>\n",
       "    .dataframe tbody tr th:only-of-type {\n",
       "        vertical-align: middle;\n",
       "    }\n",
       "\n",
       "    .dataframe tbody tr th {\n",
       "        vertical-align: top;\n",
       "    }\n",
       "\n",
       "    .dataframe thead th {\n",
       "        text-align: right;\n",
       "    }\n",
       "</style>\n",
       "<table border=\"1\" class=\"dataframe\">\n",
       "  <thead>\n",
       "    <tr style=\"text-align: right;\">\n",
       "      <th></th>\n",
       "      <th>PassengerId</th>\n",
       "      <th>Survived</th>\n",
       "      <th>Pclass</th>\n",
       "      <th>Name</th>\n",
       "      <th>Sex</th>\n",
       "      <th>Age</th>\n",
       "      <th>SibSp</th>\n",
       "      <th>Parch</th>\n",
       "      <th>Ticket</th>\n",
       "      <th>Fare</th>\n",
       "      <th>Cabin</th>\n",
       "      <th>Embarked</th>\n",
       "    </tr>\n",
       "  </thead>\n",
       "  <tbody>\n",
       "    <tr>\n",
       "      <th>0</th>\n",
       "      <td>1</td>\n",
       "      <td>0</td>\n",
       "      <td>3</td>\n",
       "      <td>Braund, Mr. Owen Harris</td>\n",
       "      <td>male</td>\n",
       "      <td>22.0</td>\n",
       "      <td>1</td>\n",
       "      <td>0</td>\n",
       "      <td>A/5 21171</td>\n",
       "      <td>7.2500</td>\n",
       "      <td>NaN</td>\n",
       "      <td>S</td>\n",
       "    </tr>\n",
       "    <tr>\n",
       "      <th>1</th>\n",
       "      <td>2</td>\n",
       "      <td>1</td>\n",
       "      <td>1</td>\n",
       "      <td>Cumings, Mrs. John Bradley (Florence Briggs Th...</td>\n",
       "      <td>female</td>\n",
       "      <td>38.0</td>\n",
       "      <td>1</td>\n",
       "      <td>0</td>\n",
       "      <td>PC 17599</td>\n",
       "      <td>71.2833</td>\n",
       "      <td>C85</td>\n",
       "      <td>C</td>\n",
       "    </tr>\n",
       "    <tr>\n",
       "      <th>2</th>\n",
       "      <td>3</td>\n",
       "      <td>1</td>\n",
       "      <td>3</td>\n",
       "      <td>Heikkinen, Miss. Laina</td>\n",
       "      <td>female</td>\n",
       "      <td>26.0</td>\n",
       "      <td>0</td>\n",
       "      <td>0</td>\n",
       "      <td>STON/O2. 3101282</td>\n",
       "      <td>7.9250</td>\n",
       "      <td>NaN</td>\n",
       "      <td>S</td>\n",
       "    </tr>\n",
       "    <tr>\n",
       "      <th>3</th>\n",
       "      <td>4</td>\n",
       "      <td>1</td>\n",
       "      <td>1</td>\n",
       "      <td>Futrelle, Mrs. Jacques Heath (Lily May Peel)</td>\n",
       "      <td>female</td>\n",
       "      <td>35.0</td>\n",
       "      <td>1</td>\n",
       "      <td>0</td>\n",
       "      <td>113803</td>\n",
       "      <td>53.1000</td>\n",
       "      <td>C123</td>\n",
       "      <td>S</td>\n",
       "    </tr>\n",
       "    <tr>\n",
       "      <th>4</th>\n",
       "      <td>5</td>\n",
       "      <td>0</td>\n",
       "      <td>3</td>\n",
       "      <td>Allen, Mr. William Henry</td>\n",
       "      <td>male</td>\n",
       "      <td>35.0</td>\n",
       "      <td>0</td>\n",
       "      <td>0</td>\n",
       "      <td>373450</td>\n",
       "      <td>8.0500</td>\n",
       "      <td>NaN</td>\n",
       "      <td>S</td>\n",
       "    </tr>\n",
       "  </tbody>\n",
       "</table>\n",
       "</div>"
      ],
      "text/plain": [
       "   PassengerId  Survived  Pclass  \\\n",
       "0            1         0       3   \n",
       "1            2         1       1   \n",
       "2            3         1       3   \n",
       "3            4         1       1   \n",
       "4            5         0       3   \n",
       "\n",
       "                                                Name     Sex   Age  SibSp  \\\n",
       "0                            Braund, Mr. Owen Harris    male  22.0      1   \n",
       "1  Cumings, Mrs. John Bradley (Florence Briggs Th...  female  38.0      1   \n",
       "2                             Heikkinen, Miss. Laina  female  26.0      0   \n",
       "3       Futrelle, Mrs. Jacques Heath (Lily May Peel)  female  35.0      1   \n",
       "4                           Allen, Mr. William Henry    male  35.0      0   \n",
       "\n",
       "   Parch            Ticket     Fare Cabin Embarked  \n",
       "0      0         A/5 21171   7.2500   NaN        S  \n",
       "1      0          PC 17599  71.2833   C85        C  \n",
       "2      0  STON/O2. 3101282   7.9250   NaN        S  \n",
       "3      0            113803  53.1000  C123        S  \n",
       "4      0            373450   8.0500   NaN        S  "
      ]
     },
     "execution_count": 2,
     "metadata": {},
     "output_type": "execute_result"
    }
   ],
   "source": [
    "# Download dateset locally and import as pandas dataframe\n",
    "titanic_dataset = pd.read_csv(\"Titanic-Dataset.csv\")\n",
    "\n",
    "titanic_dataset.head()"
   ]
  },
  {
   "cell_type": "markdown",
   "id": "d2a1a91d-922f-4186-a39d-1f4deded48dc",
   "metadata": {},
   "source": [
    "### Initial Data Exploration"
   ]
  },
  {
   "cell_type": "markdown",
   "id": "ee474f1a-27f8-4934-a81a-7bcfbd8c0525",
   "metadata": {},
   "source": [
    "By using .info(), you can:\n",
    "\n",
    "- Identify missing data: Check for columns with a large number of null values.\n",
    "- Determine data types: Ensure that columns have the correct data types for your analysis.\n",
    "- Assess data structure: Understand the overall structure of your DataFrame, including the number of rows and columns and their types.\n",
    "- Optimize memory usage: Identify opportunities to reduce memory consumption by converting data types or dropping unnecessary columns."
   ]
  },
  {
   "cell_type": "code",
   "execution_count": 3,
   "id": "6af0e761-d808-4d3b-bada-ff7fd060af1e",
   "metadata": {},
   "outputs": [
    {
     "name": "stdout",
     "output_type": "stream",
     "text": [
      "<class 'pandas.core.frame.DataFrame'>\n",
      "RangeIndex: 891 entries, 0 to 890\n",
      "Data columns (total 12 columns):\n",
      " #   Column       Non-Null Count  Dtype  \n",
      "---  ------       --------------  -----  \n",
      " 0   PassengerId  891 non-null    int64  \n",
      " 1   Survived     891 non-null    int64  \n",
      " 2   Pclass       891 non-null    int64  \n",
      " 3   Name         891 non-null    object \n",
      " 4   Sex          891 non-null    object \n",
      " 5   Age          714 non-null    float64\n",
      " 6   SibSp        891 non-null    int64  \n",
      " 7   Parch        891 non-null    int64  \n",
      " 8   Ticket       891 non-null    object \n",
      " 9   Fare         891 non-null    float64\n",
      " 10  Cabin        204 non-null    object \n",
      " 11  Embarked     889 non-null    object \n",
      "dtypes: float64(2), int64(5), object(5)\n",
      "memory usage: 83.7+ KB\n"
     ]
    }
   ],
   "source": [
    "# Check the data types and check for missing values\n",
    "titanic_dataset.info()"
   ]
  },
  {
   "cell_type": "code",
   "execution_count": 4,
   "id": "4a261b84-71b3-4311-b6ed-d82dc5e77842",
   "metadata": {},
   "outputs": [],
   "source": [
    "# Change data types as needed\n",
    "\n",
    "titanic_dataset = titanic_dataset.astype({'Survived':'category', 'Pclass':'category', 'Sex':'category','Embarked':'category'})"
   ]
  },
  {
   "cell_type": "code",
   "execution_count": 5,
   "id": "8d7ad943-cfd1-4132-aa5c-d8b203c8d3a0",
   "metadata": {},
   "outputs": [
    {
     "name": "stdout",
     "output_type": "stream",
     "text": [
      "<class 'pandas.core.frame.DataFrame'>\n",
      "RangeIndex: 891 entries, 0 to 890\n",
      "Data columns (total 12 columns):\n",
      " #   Column       Non-Null Count  Dtype   \n",
      "---  ------       --------------  -----   \n",
      " 0   PassengerId  891 non-null    int64   \n",
      " 1   Survived     891 non-null    category\n",
      " 2   Pclass       891 non-null    category\n",
      " 3   Name         891 non-null    object  \n",
      " 4   Sex          891 non-null    category\n",
      " 5   Age          714 non-null    float64 \n",
      " 6   SibSp        891 non-null    int64   \n",
      " 7   Parch        891 non-null    int64   \n",
      " 8   Ticket       891 non-null    object  \n",
      " 9   Fare         891 non-null    float64 \n",
      " 10  Cabin        204 non-null    object  \n",
      " 11  Embarked     889 non-null    category\n",
      "dtypes: category(4), float64(2), int64(3), object(3)\n",
      "memory usage: 59.8+ KB\n"
     ]
    }
   ],
   "source": [
    "# Check the data types and check for missing values\n",
    "titanic_dataset.info()"
   ]
  },
  {
   "cell_type": "markdown",
   "id": "e70ff187-d538-45a5-91dc-aebdae07cc0b",
   "metadata": {},
   "source": [
    "### Data Cleaning and Preprocessing"
   ]
  },
  {
   "cell_type": "markdown",
   "id": "41d85226-b02a-4507-8480-bdc0e752e6cf",
   "metadata": {},
   "source": [
    "Data cleaning and preprocessing is a fundamental step that lays the foundation for successful machine learning projects. By carefully considering the specific needs of your data and your modeling goals, you can effectively clean, transform, and prepare your data for analysis.\n",
    "\n",
    "This step is crucial for preparing data for analysis and modeling, and is crucial for:\n",
    "\n",
    "- Improve data quality: Remove inconsistencies, errors, or missing values that might affect your model's performance.\n",
    "- Create relevant features: Create new features that capture important information or relationships within your data.\n",
    "- Prepare data for modeling: Ensure that your data is in a format that is compatible with your chosen machine learning algorithms."
   ]
  },
  {
   "cell_type": "markdown",
   "id": "be8a2f3d-a8c3-4c44-b9cc-f9bb248228cf",
   "metadata": {},
   "source": [
    "#### Remove, Rename, and Create columns as needed"
   ]
  },
  {
   "cell_type": "code",
   "execution_count": 6,
   "id": "049f3c28-711b-4510-b5a1-ff380d39fe46",
   "metadata": {},
   "outputs": [],
   "source": [
    "# Removing the columns that are not needed\n",
    "titanic_dataset = titanic_dataset.drop(columns=['Name','PassengerId'])"
   ]
  },
  {
   "cell_type": "code",
   "execution_count": 7,
   "id": "760a19e7-64b3-4f08-8f5f-f4f879376d65",
   "metadata": {
    "scrolled": true
   },
   "outputs": [
    {
     "data": {
      "text/html": [
       "<div>\n",
       "<style scoped>\n",
       "    .dataframe tbody tr th:only-of-type {\n",
       "        vertical-align: middle;\n",
       "    }\n",
       "\n",
       "    .dataframe tbody tr th {\n",
       "        vertical-align: top;\n",
       "    }\n",
       "\n",
       "    .dataframe thead th {\n",
       "        text-align: right;\n",
       "    }\n",
       "</style>\n",
       "<table border=\"1\" class=\"dataframe\">\n",
       "  <thead>\n",
       "    <tr style=\"text-align: right;\">\n",
       "      <th></th>\n",
       "      <th>survived</th>\n",
       "      <th>pclass</th>\n",
       "      <th>sex</th>\n",
       "      <th>age</th>\n",
       "      <th>sibsp</th>\n",
       "      <th>parch</th>\n",
       "      <th>ticket</th>\n",
       "      <th>fare</th>\n",
       "      <th>cabin</th>\n",
       "      <th>embarked</th>\n",
       "    </tr>\n",
       "  </thead>\n",
       "  <tbody>\n",
       "    <tr>\n",
       "      <th>0</th>\n",
       "      <td>0</td>\n",
       "      <td>3</td>\n",
       "      <td>male</td>\n",
       "      <td>22.0</td>\n",
       "      <td>1</td>\n",
       "      <td>0</td>\n",
       "      <td>A/5 21171</td>\n",
       "      <td>7.2500</td>\n",
       "      <td>NaN</td>\n",
       "      <td>S</td>\n",
       "    </tr>\n",
       "    <tr>\n",
       "      <th>1</th>\n",
       "      <td>1</td>\n",
       "      <td>1</td>\n",
       "      <td>female</td>\n",
       "      <td>38.0</td>\n",
       "      <td>1</td>\n",
       "      <td>0</td>\n",
       "      <td>PC 17599</td>\n",
       "      <td>71.2833</td>\n",
       "      <td>C85</td>\n",
       "      <td>C</td>\n",
       "    </tr>\n",
       "    <tr>\n",
       "      <th>2</th>\n",
       "      <td>1</td>\n",
       "      <td>3</td>\n",
       "      <td>female</td>\n",
       "      <td>26.0</td>\n",
       "      <td>0</td>\n",
       "      <td>0</td>\n",
       "      <td>STON/O2. 3101282</td>\n",
       "      <td>7.9250</td>\n",
       "      <td>NaN</td>\n",
       "      <td>S</td>\n",
       "    </tr>\n",
       "    <tr>\n",
       "      <th>3</th>\n",
       "      <td>1</td>\n",
       "      <td>1</td>\n",
       "      <td>female</td>\n",
       "      <td>35.0</td>\n",
       "      <td>1</td>\n",
       "      <td>0</td>\n",
       "      <td>113803</td>\n",
       "      <td>53.1000</td>\n",
       "      <td>C123</td>\n",
       "      <td>S</td>\n",
       "    </tr>\n",
       "    <tr>\n",
       "      <th>4</th>\n",
       "      <td>0</td>\n",
       "      <td>3</td>\n",
       "      <td>male</td>\n",
       "      <td>35.0</td>\n",
       "      <td>0</td>\n",
       "      <td>0</td>\n",
       "      <td>373450</td>\n",
       "      <td>8.0500</td>\n",
       "      <td>NaN</td>\n",
       "      <td>S</td>\n",
       "    </tr>\n",
       "  </tbody>\n",
       "</table>\n",
       "</div>"
      ],
      "text/plain": [
       "  survived pclass     sex   age  sibsp  parch            ticket     fare  \\\n",
       "0        0      3    male  22.0      1      0         A/5 21171   7.2500   \n",
       "1        1      1  female  38.0      1      0          PC 17599  71.2833   \n",
       "2        1      3  female  26.0      0      0  STON/O2. 3101282   7.9250   \n",
       "3        1      1  female  35.0      1      0            113803  53.1000   \n",
       "4        0      3    male  35.0      0      0            373450   8.0500   \n",
       "\n",
       "  cabin embarked  \n",
       "0   NaN        S  \n",
       "1   C85        C  \n",
       "2   NaN        S  \n",
       "3  C123        S  \n",
       "4   NaN        S  "
      ]
     },
     "execution_count": 7,
     "metadata": {},
     "output_type": "execute_result"
    }
   ],
   "source": [
    "# Rename columns to python standard lowercase\n",
    "\n",
    "#.str.lower(): Applies the lower() method to each column name in the index, converting them to lowercase\n",
    "\n",
    "titanic_dataset.columns = titanic_dataset.columns.str.lower()\n",
    "\n",
    "titanic_dataset.head()"
   ]
  },
  {
   "cell_type": "code",
   "execution_count": 8,
   "id": "9757dbe2-b2c0-42b0-8afb-5078cb3ea140",
   "metadata": {},
   "outputs": [],
   "source": [
    "# Rename survived columns\n",
    "\n",
    "titanic_dataset['survived'] = titanic_dataset['survived'].map({1:'yes', 0:'no'})"
   ]
  },
  {
   "cell_type": "code",
   "execution_count": 9,
   "id": "70738ad1-ba52-44a0-b24b-8cf9f758befc",
   "metadata": {},
   "outputs": [
    {
     "data": {
      "text/html": [
       "<div>\n",
       "<style scoped>\n",
       "    .dataframe tbody tr th:only-of-type {\n",
       "        vertical-align: middle;\n",
       "    }\n",
       "\n",
       "    .dataframe tbody tr th {\n",
       "        vertical-align: top;\n",
       "    }\n",
       "\n",
       "    .dataframe thead th {\n",
       "        text-align: right;\n",
       "    }\n",
       "</style>\n",
       "<table border=\"1\" class=\"dataframe\">\n",
       "  <thead>\n",
       "    <tr style=\"text-align: right;\">\n",
       "      <th></th>\n",
       "      <th>survived</th>\n",
       "      <th>pclass</th>\n",
       "      <th>sex</th>\n",
       "      <th>age</th>\n",
       "      <th>sibsp</th>\n",
       "      <th>parch</th>\n",
       "      <th>ticket</th>\n",
       "      <th>fare</th>\n",
       "      <th>cabin</th>\n",
       "      <th>embarked</th>\n",
       "      <th>alone</th>\n",
       "    </tr>\n",
       "  </thead>\n",
       "  <tbody>\n",
       "    <tr>\n",
       "      <th>0</th>\n",
       "      <td>no</td>\n",
       "      <td>3</td>\n",
       "      <td>male</td>\n",
       "      <td>22.0</td>\n",
       "      <td>1</td>\n",
       "      <td>0</td>\n",
       "      <td>A/5 21171</td>\n",
       "      <td>7.2500</td>\n",
       "      <td>NaN</td>\n",
       "      <td>S</td>\n",
       "      <td>no</td>\n",
       "    </tr>\n",
       "    <tr>\n",
       "      <th>1</th>\n",
       "      <td>yes</td>\n",
       "      <td>1</td>\n",
       "      <td>female</td>\n",
       "      <td>38.0</td>\n",
       "      <td>1</td>\n",
       "      <td>0</td>\n",
       "      <td>PC 17599</td>\n",
       "      <td>71.2833</td>\n",
       "      <td>C85</td>\n",
       "      <td>C</td>\n",
       "      <td>no</td>\n",
       "    </tr>\n",
       "    <tr>\n",
       "      <th>2</th>\n",
       "      <td>yes</td>\n",
       "      <td>3</td>\n",
       "      <td>female</td>\n",
       "      <td>26.0</td>\n",
       "      <td>0</td>\n",
       "      <td>0</td>\n",
       "      <td>STON/O2. 3101282</td>\n",
       "      <td>7.9250</td>\n",
       "      <td>NaN</td>\n",
       "      <td>S</td>\n",
       "      <td>yes</td>\n",
       "    </tr>\n",
       "    <tr>\n",
       "      <th>3</th>\n",
       "      <td>yes</td>\n",
       "      <td>1</td>\n",
       "      <td>female</td>\n",
       "      <td>35.0</td>\n",
       "      <td>1</td>\n",
       "      <td>0</td>\n",
       "      <td>113803</td>\n",
       "      <td>53.1000</td>\n",
       "      <td>C123</td>\n",
       "      <td>S</td>\n",
       "      <td>no</td>\n",
       "    </tr>\n",
       "    <tr>\n",
       "      <th>4</th>\n",
       "      <td>no</td>\n",
       "      <td>3</td>\n",
       "      <td>male</td>\n",
       "      <td>35.0</td>\n",
       "      <td>0</td>\n",
       "      <td>0</td>\n",
       "      <td>373450</td>\n",
       "      <td>8.0500</td>\n",
       "      <td>NaN</td>\n",
       "      <td>S</td>\n",
       "      <td>yes</td>\n",
       "    </tr>\n",
       "  </tbody>\n",
       "</table>\n",
       "</div>"
      ],
      "text/plain": [
       "  survived pclass     sex   age  sibsp  parch            ticket     fare  \\\n",
       "0       no      3    male  22.0      1      0         A/5 21171   7.2500   \n",
       "1      yes      1  female  38.0      1      0          PC 17599  71.2833   \n",
       "2      yes      3  female  26.0      0      0  STON/O2. 3101282   7.9250   \n",
       "3      yes      1  female  35.0      1      0            113803  53.1000   \n",
       "4       no      3    male  35.0      0      0            373450   8.0500   \n",
       "\n",
       "  cabin embarked alone  \n",
       "0   NaN        S    no  \n",
       "1   C85        C    no  \n",
       "2   NaN        S   yes  \n",
       "3  C123        S    no  \n",
       "4   NaN        S   yes  "
      ]
     },
     "execution_count": 9,
     "metadata": {},
     "output_type": "execute_result"
    }
   ],
   "source": [
    "# create new column to identify passengers who were alone\n",
    "titanic_dataset['alone'] = (titanic_dataset['sibsp'] + \n",
    "                            titanic_dataset['parch'] == 0).astype(str).replace('True', 'yes').replace('False', 'no')\n",
    "\n",
    "titanic_dataset.head()"
   ]
  },
  {
   "cell_type": "code",
   "execution_count": 10,
   "id": "b12a612d-5f85-4c9a-b0e9-777e71fa2319",
   "metadata": {},
   "outputs": [
    {
     "data": {
      "text/html": [
       "<div>\n",
       "<style scoped>\n",
       "    .dataframe tbody tr th:only-of-type {\n",
       "        vertical-align: middle;\n",
       "    }\n",
       "\n",
       "    .dataframe tbody tr th {\n",
       "        vertical-align: top;\n",
       "    }\n",
       "\n",
       "    .dataframe thead th {\n",
       "        text-align: right;\n",
       "    }\n",
       "</style>\n",
       "<table border=\"1\" class=\"dataframe\">\n",
       "  <thead>\n",
       "    <tr style=\"text-align: right;\">\n",
       "      <th></th>\n",
       "      <th>survived</th>\n",
       "      <th>pclass</th>\n",
       "      <th>sex</th>\n",
       "      <th>age</th>\n",
       "      <th>sibsp</th>\n",
       "      <th>parch</th>\n",
       "      <th>ticket</th>\n",
       "      <th>fare</th>\n",
       "      <th>cabin</th>\n",
       "      <th>embarked</th>\n",
       "      <th>alone</th>\n",
       "      <th>deck</th>\n",
       "    </tr>\n",
       "  </thead>\n",
       "  <tbody>\n",
       "    <tr>\n",
       "      <th>0</th>\n",
       "      <td>no</td>\n",
       "      <td>3</td>\n",
       "      <td>male</td>\n",
       "      <td>22.0</td>\n",
       "      <td>1</td>\n",
       "      <td>0</td>\n",
       "      <td>A/5 21171</td>\n",
       "      <td>7.2500</td>\n",
       "      <td>NaN</td>\n",
       "      <td>S</td>\n",
       "      <td>no</td>\n",
       "      <td>NaN</td>\n",
       "    </tr>\n",
       "    <tr>\n",
       "      <th>1</th>\n",
       "      <td>yes</td>\n",
       "      <td>1</td>\n",
       "      <td>female</td>\n",
       "      <td>38.0</td>\n",
       "      <td>1</td>\n",
       "      <td>0</td>\n",
       "      <td>PC 17599</td>\n",
       "      <td>71.2833</td>\n",
       "      <td>C85</td>\n",
       "      <td>C</td>\n",
       "      <td>no</td>\n",
       "      <td>C</td>\n",
       "    </tr>\n",
       "    <tr>\n",
       "      <th>2</th>\n",
       "      <td>yes</td>\n",
       "      <td>3</td>\n",
       "      <td>female</td>\n",
       "      <td>26.0</td>\n",
       "      <td>0</td>\n",
       "      <td>0</td>\n",
       "      <td>STON/O2. 3101282</td>\n",
       "      <td>7.9250</td>\n",
       "      <td>NaN</td>\n",
       "      <td>S</td>\n",
       "      <td>yes</td>\n",
       "      <td>NaN</td>\n",
       "    </tr>\n",
       "    <tr>\n",
       "      <th>3</th>\n",
       "      <td>yes</td>\n",
       "      <td>1</td>\n",
       "      <td>female</td>\n",
       "      <td>35.0</td>\n",
       "      <td>1</td>\n",
       "      <td>0</td>\n",
       "      <td>113803</td>\n",
       "      <td>53.1000</td>\n",
       "      <td>C123</td>\n",
       "      <td>S</td>\n",
       "      <td>no</td>\n",
       "      <td>C</td>\n",
       "    </tr>\n",
       "    <tr>\n",
       "      <th>4</th>\n",
       "      <td>no</td>\n",
       "      <td>3</td>\n",
       "      <td>male</td>\n",
       "      <td>35.0</td>\n",
       "      <td>0</td>\n",
       "      <td>0</td>\n",
       "      <td>373450</td>\n",
       "      <td>8.0500</td>\n",
       "      <td>NaN</td>\n",
       "      <td>S</td>\n",
       "      <td>yes</td>\n",
       "      <td>NaN</td>\n",
       "    </tr>\n",
       "  </tbody>\n",
       "</table>\n",
       "</div>"
      ],
      "text/plain": [
       "  survived pclass     sex   age  sibsp  parch            ticket     fare  \\\n",
       "0       no      3    male  22.0      1      0         A/5 21171   7.2500   \n",
       "1      yes      1  female  38.0      1      0          PC 17599  71.2833   \n",
       "2      yes      3  female  26.0      0      0  STON/O2. 3101282   7.9250   \n",
       "3      yes      1  female  35.0      1      0            113803  53.1000   \n",
       "4       no      3    male  35.0      0      0            373450   8.0500   \n",
       "\n",
       "  cabin embarked alone deck  \n",
       "0   NaN        S    no  NaN  \n",
       "1   C85        C    no    C  \n",
       "2   NaN        S   yes  NaN  \n",
       "3  C123        S    no    C  \n",
       "4   NaN        S   yes  NaN  "
      ]
     },
     "execution_count": 10,
     "metadata": {},
     "output_type": "execute_result"
    }
   ],
   "source": [
    "titanic_dataset['deck'] = titanic_dataset['cabin'].str[0]\n",
    "\n",
    "titanic_dataset.head()"
   ]
  },
  {
   "cell_type": "code",
   "execution_count": 11,
   "id": "67dc14fb-d41d-4d89-9346-d360b5c5ccf9",
   "metadata": {},
   "outputs": [
    {
     "name": "stdout",
     "output_type": "stream",
     "text": [
      "deck\n",
      "C    59\n",
      "B    47\n",
      "D    33\n",
      "E    32\n",
      "A    15\n",
      "F    13\n",
      "G     4\n",
      "T     1\n",
      "Name: count, dtype: int64\n"
     ]
    }
   ],
   "source": [
    "unique_values = titanic_dataset['deck'].value_counts()\n",
    "print(unique_values)"
   ]
  },
  {
   "cell_type": "code",
   "execution_count": 12,
   "id": "02ff20da-e85b-4d78-8862-19b3d1c7278a",
   "metadata": {
    "scrolled": true
   },
   "outputs": [
    {
     "data": {
      "text/html": [
       "<div>\n",
       "<style scoped>\n",
       "    .dataframe tbody tr th:only-of-type {\n",
       "        vertical-align: middle;\n",
       "    }\n",
       "\n",
       "    .dataframe tbody tr th {\n",
       "        vertical-align: top;\n",
       "    }\n",
       "\n",
       "    .dataframe thead th {\n",
       "        text-align: right;\n",
       "    }\n",
       "</style>\n",
       "<table border=\"1\" class=\"dataframe\">\n",
       "  <thead>\n",
       "    <tr style=\"text-align: right;\">\n",
       "      <th></th>\n",
       "      <th>survived</th>\n",
       "      <th>pclass</th>\n",
       "      <th>sex</th>\n",
       "      <th>age</th>\n",
       "      <th>sibsp</th>\n",
       "      <th>parch</th>\n",
       "      <th>ticket</th>\n",
       "      <th>fare</th>\n",
       "      <th>cabin</th>\n",
       "      <th>embarked</th>\n",
       "      <th>alone</th>\n",
       "      <th>deck</th>\n",
       "    </tr>\n",
       "  </thead>\n",
       "  <tbody>\n",
       "    <tr>\n",
       "      <th>0</th>\n",
       "      <td>no</td>\n",
       "      <td>3</td>\n",
       "      <td>male</td>\n",
       "      <td>22.0</td>\n",
       "      <td>1</td>\n",
       "      <td>0</td>\n",
       "      <td>A/5 21171</td>\n",
       "      <td>7.2500</td>\n",
       "      <td>NaN</td>\n",
       "      <td>S</td>\n",
       "      <td>no</td>\n",
       "      <td>NaN</td>\n",
       "    </tr>\n",
       "    <tr>\n",
       "      <th>1</th>\n",
       "      <td>yes</td>\n",
       "      <td>1</td>\n",
       "      <td>female</td>\n",
       "      <td>38.0</td>\n",
       "      <td>1</td>\n",
       "      <td>0</td>\n",
       "      <td>PC 17599</td>\n",
       "      <td>71.2833</td>\n",
       "      <td>C85</td>\n",
       "      <td>C</td>\n",
       "      <td>no</td>\n",
       "      <td>C</td>\n",
       "    </tr>\n",
       "    <tr>\n",
       "      <th>2</th>\n",
       "      <td>yes</td>\n",
       "      <td>3</td>\n",
       "      <td>female</td>\n",
       "      <td>26.0</td>\n",
       "      <td>0</td>\n",
       "      <td>0</td>\n",
       "      <td>STON/O2. 3101282</td>\n",
       "      <td>7.9250</td>\n",
       "      <td>NaN</td>\n",
       "      <td>S</td>\n",
       "      <td>yes</td>\n",
       "      <td>NaN</td>\n",
       "    </tr>\n",
       "    <tr>\n",
       "      <th>3</th>\n",
       "      <td>yes</td>\n",
       "      <td>1</td>\n",
       "      <td>female</td>\n",
       "      <td>35.0</td>\n",
       "      <td>1</td>\n",
       "      <td>0</td>\n",
       "      <td>113803</td>\n",
       "      <td>53.1000</td>\n",
       "      <td>C123</td>\n",
       "      <td>S</td>\n",
       "      <td>no</td>\n",
       "      <td>C</td>\n",
       "    </tr>\n",
       "    <tr>\n",
       "      <th>4</th>\n",
       "      <td>no</td>\n",
       "      <td>3</td>\n",
       "      <td>male</td>\n",
       "      <td>35.0</td>\n",
       "      <td>0</td>\n",
       "      <td>0</td>\n",
       "      <td>373450</td>\n",
       "      <td>8.0500</td>\n",
       "      <td>NaN</td>\n",
       "      <td>S</td>\n",
       "      <td>yes</td>\n",
       "      <td>NaN</td>\n",
       "    </tr>\n",
       "  </tbody>\n",
       "</table>\n",
       "</div>"
      ],
      "text/plain": [
       "  survived pclass     sex   age  sibsp  parch            ticket     fare  \\\n",
       "0       no      3    male  22.0      1      0         A/5 21171   7.2500   \n",
       "1      yes      1  female  38.0      1      0          PC 17599  71.2833   \n",
       "2      yes      3  female  26.0      0      0  STON/O2. 3101282   7.9250   \n",
       "3      yes      1  female  35.0      1      0            113803  53.1000   \n",
       "4       no      3    male  35.0      0      0            373450   8.0500   \n",
       "\n",
       "  cabin embarked alone deck  \n",
       "0   NaN        S    no  NaN  \n",
       "1   C85        C    no    C  \n",
       "2   NaN        S   yes  NaN  \n",
       "3  C123        S    no    C  \n",
       "4   NaN        S   yes  NaN  "
      ]
     },
     "execution_count": 12,
     "metadata": {},
     "output_type": "execute_result"
    }
   ],
   "source": [
    "titanic_dataset.head()"
   ]
  },
  {
   "cell_type": "markdown",
   "id": "76304a02-c78d-4af7-bef8-0dbb6d3ad38e",
   "metadata": {},
   "source": [
    "### Data Visualization"
   ]
  },
  {
   "cell_type": "markdown",
   "id": "9e3e99c0-2640-4c50-be5a-7fe36286f49a",
   "metadata": {},
   "source": [
    "#### Age Distribution"
   ]
  },
  {
   "cell_type": "code",
   "execution_count": 13,
   "id": "5491cfea-7d6e-446b-8251-a2b21ec89f1a",
   "metadata": {},
   "outputs": [
    {
     "data": {
      "image/png": "[encoded data removed]",
      "text/plain": [
       "<Figure size 700x500 with 1 Axes>"
      ]
     },
     "metadata": {},
     "output_type": "display_data"
    }
   ],
   "source": [
    "# Create a histogram\n",
    "sns.set_theme(style=\"ticks\")\n",
    "\n",
    "f, ax = plt.subplots(figsize=(7, 5))\n",
    "\n",
    "sns.despine(f)\n",
    "\n",
    "sns.histplot(\n",
    "    data=titanic_dataset,\n",
    "    x=\"age\",\n",
    "    color=\"cadetblue\"\n",
    ")\n",
    "\n",
    "plt.title('Distribution of Age')\n",
    "\n",
    "# Save the plot locally as an image file\n",
    "plt.savefig('Distribution of Age.png')\n",
    "\n",
    "#Display the generated plot\n",
    "plt.show()"
   ]
  },
  {
   "cell_type": "markdown",
   "id": "3f3d0a3d-6442-49fb-9e0b-6cf258c61905",
   "metadata": {},
   "source": [
    " - With the sns.histplot function,  one can effectively visualizes the distribution of ages within the Titanic dataset. The histogram will show the frequency of different age ranges within the data."
   ]
  },
  {
   "cell_type": "code",
   "execution_count": 14,
   "id": "3ac7b41a-b0a8-498d-9153-427e09a010f1",
   "metadata": {},
   "outputs": [
    {
     "data": {
      "image/png": "[encoded data removed]",
      "text/plain": [
       "<Figure size 700x500 with 1 Axes>"
      ]
     },
     "metadata": {},
     "output_type": "display_data"
    }
   ],
   "source": [
    "# Create a histogram\n",
    "sns.set_theme(style=\"ticks\")\n",
    "\n",
    "f, ax = plt.subplots(figsize=(7, 5))\n",
    "\n",
    "sns.despine(f)\n",
    "\n",
    "sns.histplot(\n",
    "    titanic_dataset,\n",
    "    x=\"age\", hue=\"pclass\",\n",
    "    multiple=\"stack\",\n",
    "    palette=\"crest\",\n",
    "    edgecolor=\".3\",\n",
    "    linewidth=.5,\n",
    "    element=\"step\"\n",
    ")\n",
    "\n",
    "# Add a title\n",
    "plt.legend(title = \"Ticket Class\", labels=['1','2','3'])\n",
    "plt.title('Distribution of Age by Passenger Class')\n",
    "\n",
    "# Save the plot locally as an image file\n",
    "plt.savefig('Distribution of Age by Passenger Class.png')\n",
    "\n",
    "# Displays the generated plot\n",
    "plt.show()"
   ]
  },
  {
   "cell_type": "markdown",
   "id": "1da763b2-5a7f-4af0-8196-72c4563ef7cf",
   "metadata": {},
   "source": [
    "- The stacked histogram visualizes the distribution of ages within the Titanic dataset, categorized by passenger class (Pclass).\n",
    "- Overall, this histogram effectively visualizes the relationship between \"age\" and \"pclass\" in the Titanic dataset, clearly indicating how the distribution of ages varies across passenger classes\n",
    "- It is important to remember that by default, stacked histograms show the frequency or density of each category within each bin. This means that the height of each stack represents the number of data points that fall into that bin for a particular category. The total height of a bar in a stacked histogram represents the total frequency or density for that bin, regardless of category.\n",
    "    * One can also explore Cumulative histograms, which show the cumulative sum of frequencies or densities across categories within each bin. This means that the height of each stack represents the total number of data points that fall into that bin and all previous bins for a particular category."
   ]
  },
  {
   "cell_type": "code",
   "execution_count": 15,
   "id": "b6837731-32f9-4c4e-a2ef-74a6af55c574",
   "metadata": {},
   "outputs": [
    {
     "data": {
      "image/png": "[encoded data removed]",
      "text/plain": [
       "<Figure size 700x500 with 1 Axes>"
      ]
     },
     "metadata": {},
     "output_type": "display_data"
    }
   ],
   "source": [
    "# Create a histogram\n",
    "sns.set_theme(style=\"ticks\")\n",
    "\n",
    "f, ax = plt.subplots(figsize=(7, 5))\n",
    "\n",
    "sns.despine(f)\n",
    "\n",
    "sns.histplot(\n",
    "    titanic_dataset,\n",
    "    x=\"age\", hue=\"pclass\",\n",
    "    multiple=\"stack\",\n",
    "    palette=\"crest\",\n",
    "    edgecolor=\".3\",\n",
    "    linewidth=.5,\n",
    "    element=\"step\",\n",
    "    cumulative=True\n",
    ")\n",
    "\n",
    "# Add a title\n",
    "plt.legend(title = \"Ticket Class\", labels=['1','2','3'])\n",
    "plt.title('Cumulative Distribution of Age by Passenger Class')\n",
    "\n",
    "# Save the plot locally as an image file\n",
    "plt.savefig('Cumulative Distribution of Age by Passenger Class.png')\n",
    "\n",
    "# Displays the generated plot\n",
    "plt.show()"
   ]
  },
  {
   "cell_type": "markdown",
   "id": "baf0f3c7-7a52-44b5-87b3-8ff866f8f4ca",
   "metadata": {},
   "source": [
    "#### Gender Distribution"
   ]
  },
  {
   "cell_type": "code",
   "execution_count": 16,
   "id": "c1dbcdc9-34b3-4009-a8cf-5cf51374c505",
   "metadata": {},
   "outputs": [
    {
     "data": {
      "image/png": "[encoded data removed]",
      "text/plain": [
       "<Figure size 700x500 with 1 Axes>"
      ]
     },
     "metadata": {},
     "output_type": "display_data"
    }
   ],
   "source": [
    "sns.set_theme(style=\"ticks\")\n",
    "\n",
    "f, ax = plt.subplots(figsize=(7, 5))\n",
    "\n",
    "sns.despine(f)\n",
    "\n",
    "\n",
    "sns.countplot(data=titanic_dataset, x='sex', color='cadetblue')\n",
    "\n",
    "plt.show()"
   ]
  },
  {
   "cell_type": "markdown",
   "id": "98415154-8e73-41dd-bebd-797644839cce",
   "metadata": {},
   "source": [
    "#### Visualizing the relationship between deck, fare, and gender"
   ]
  },
  {
   "cell_type": "markdown",
   "id": "7ee74454-8f8e-430b-b7ec-66d0a6e11ded",
   "metadata": {},
   "source": [
    "This code creates a nested barplot visualizing the relationship between \"deck,\" \"fare,\" and \"sex\" in the Titanic dataset. By removing NaN values from the \"cabin\" column, we ensure data consistency and avoid errors in the visualization."
   ]
  },
  {
   "cell_type": "code",
   "execution_count": 17,
   "id": "43df64b4-f226-48d1-b97d-a7c5ad7811db",
   "metadata": {},
   "outputs": [
    {
     "data": {
      "image/png": "[encoded data removed]",
      "text/plain": [
       "<Figure size 601.125x500 with 1 Axes>"
      ]
     },
     "metadata": {},
     "output_type": "display_data"
    }
   ],
   "source": [
    "# Graph 1 # Utilizing the Seaborn library\n",
    "\n",
    "# Remove all rows that have NaN values from the cabin column\n",
    "graph1_df=titanic_dataset.dropna(subset=['cabin'])\n",
    "\n",
    "# Sort the DataFrame by \"deck\" to ensure output graph is sorted by deck\n",
    "graph1_df = graph1_df.sort_values('deck')\n",
    "\n",
    "sns.set_theme(style=\"whitegrid\")\n",
    "\n",
    "# Draw a nested barplot by deck and sex\n",
    "g = sns.catplot(\n",
    "    data=graph1_df, kind=\"bar\",\n",
    "    x=\"deck\", y=\"fare\", hue=\"sex\",\n",
    "    errorbar=\"se\", palette=\"crest\", alpha=.9, height=5\n",
    ")\n",
    "g.despine(left=True)\n",
    "g.set_axis_labels(\"Deck Allocation\", \"Fare Cost ($)\")\n",
    "g.legend.set_title(\"\")"
   ]
  },
  {
   "cell_type": "markdown",
   "id": "4c927166-d5f6-4699-8ec7-adf95943032e",
   "metadata": {},
   "source": [
    "The resulting plot will display the average fare cost for each deck, separated by sex. The error bars indicate the variability in fare costs within each group. This visualization helps to identify potential differences in fare costs based on deck and gender."
   ]
  },
  {
   "cell_type": "markdown",
   "id": "943eb0d7-b39d-4e46-9fc9-4c6dfe4f1028",
   "metadata": {},
   "source": [
    "#### Visualizing the relationship between Passenger class, fare and gender"
   ]
  },
  {
   "cell_type": "code",
   "execution_count": 18,
   "id": "0bb342ab-955f-47cd-8135-febbc5c6454d",
   "metadata": {},
   "outputs": [
    {
     "data": {
      "image/png": "[encoded data removed]",
      "text/plain": [
       "<Figure size 601.125x500 with 1 Axes>"
      ]
     },
     "metadata": {},
     "output_type": "display_data"
    }
   ],
   "source": [
    "# Graph 1 # Utilizing the Seaborn library\n",
    "\n",
    "# Remove all rows that have NaN values from the cabin column\n",
    "graph1_df=titanic_dataset.dropna(subset=['pclass'])\n",
    "\n",
    "# Sort the DataFrame by \"deck\" to ensure output graph is sorted by deck\n",
    "graph1_df = graph1_df.sort_values('pclass')\n",
    "\n",
    "sns.set_theme(style=\"whitegrid\")\n",
    "\n",
    "# Draw a nested barplot by deck and sex\n",
    "g = sns.catplot(\n",
    "    data=graph1_df, kind=\"bar\",\n",
    "    x=\"pclass\", y=\"fare\", hue=\"sex\",\n",
    "    errorbar=\"se\", palette=\"crest\", alpha=.9, height=5\n",
    ")\n",
    "g.despine(left=True)\n",
    "g.set_axis_labels(\"Ticket Class\", \"Fare Cost ($)\")\n",
    "g.legend.set_title(\"\")"
   ]
  },
  {
   "cell_type": "markdown",
   "id": "c956e309-ca95-4f83-bb26-9e255cb04f34",
   "metadata": {},
   "source": [
    "#### Nested boxplot visualizing the relationship between age, and passenger"
   ]
  },
  {
   "cell_type": "code",
   "execution_count": 19,
   "id": "9e88f309-f3fb-41fe-b7f2-6c9fc0775db1",
   "metadata": {},
   "outputs": [
    {
     "data": {
      "image/png": "[encoded data removed]",
      "text/plain": [
       "<Figure size 640x480 with 1 Axes>"
      ]
     },
     "metadata": {},
     "output_type": "display_data"
    }
   ],
   "source": [
    "sns.set_theme(style=\"ticks\", palette=\"crest\")\n",
    "\n",
    "# Draw a nested boxplot to show \n",
    "sns.boxplot(x=\"age\", y='pclass', data=titanic_dataset)\n",
    "sns.despine(offset=10, trim=True)"
   ]
  },
  {
   "cell_type": "markdown",
   "id": "5757fc84-cedc-4a98-9e89-9d06362fafd8",
   "metadata": {},
   "source": [
    "#### Visualizing the relationship between age, passenger class and those who survived"
   ]
  },
  {
   "cell_type": "code",
   "execution_count": 20,
   "id": "efed9046-37a6-49c1-854c-53fc42ccd57f",
   "metadata": {},
   "outputs": [
    {
     "data": {
      "image/png": "[encoded data removed]",
      "text/plain": [
       "<Figure size 578.875x500 with 1 Axes>"
      ]
     },
     "metadata": {},
     "output_type": "display_data"
    }
   ],
   "source": [
    "# Graph 1 # Utilizing the Seaborn library\n",
    "\n",
    "# Remove all rows that have NaN values from the cabin column\n",
    "graph1_df=titanic_dataset.dropna(subset=['pclass'])\n",
    "\n",
    "# Sort the DataFrame by \"deck\" to ensure output graph is sorted by deck\n",
    "graph1_df = graph1_df.sort_values('pclass')\n",
    "\n",
    "sns.set_theme(style=\"whitegrid\")\n",
    "\n",
    "# Draw a nested barplot by deck and sex\n",
    "g = sns.catplot(\n",
    "    data=graph1_df, kind=\"bar\",\n",
    "    x=\"age\", y=\"pclass\", hue=\"survived\",\n",
    "    errorbar=\"se\", palette=\"crest\", alpha=.9, height=5\n",
    ")\n",
    "g.despine(left=True)\n",
    "g.set_axis_labels(\"Passenger Average Age\", \"Ticket Class\")\n",
    "g.legend.set_title(\"Survived\")"
   ]
  },
  {
   "cell_type": "markdown",
   "id": "91c5ba06-565d-460b-b219-e3f69551b6b8",
   "metadata": {},
   "source": [
    "### Further Exploration"
   ]
  },
  {
   "cell_type": "code",
   "execution_count": 21,
   "id": "a8129839-f564-49b5-a421-58cf61c117f0",
   "metadata": {},
   "outputs": [
    {
     "data": {
      "text/plain": [
       "count    714.000000\n",
       "mean      29.699118\n",
       "std       14.526497\n",
       "min        0.420000\n",
       "25%       20.125000\n",
       "50%       28.000000\n",
       "75%       38.000000\n",
       "max       80.000000\n",
       "Name: age, dtype: float64"
      ]
     },
     "execution_count": 21,
     "metadata": {},
     "output_type": "execute_result"
    }
   ],
   "source": [
    "# Find the minimum and maximum values of the age column, ignoring nulls\n",
    "# This is done in prepartion for creating the age groups \n",
    "\n",
    "titanic_dataset['age'].describe()"
   ]
  },
  {
   "cell_type": "code",
   "execution_count": 22,
   "id": "807304db-4143-4506-9870-98c2fb33907e",
   "metadata": {},
   "outputs": [
    {
     "data": {
      "text/html": [
       "<div>\n",
       "<style scoped>\n",
       "    .dataframe tbody tr th:only-of-type {\n",
       "        vertical-align: middle;\n",
       "    }\n",
       "\n",
       "    .dataframe tbody tr th {\n",
       "        vertical-align: top;\n",
       "    }\n",
       "\n",
       "    .dataframe thead th {\n",
       "        text-align: right;\n",
       "    }\n",
       "</style>\n",
       "<table border=\"1\" class=\"dataframe\">\n",
       "  <thead>\n",
       "    <tr style=\"text-align: right;\">\n",
       "      <th></th>\n",
       "      <th>survived</th>\n",
       "      <th>pclass</th>\n",
       "      <th>sex</th>\n",
       "      <th>age</th>\n",
       "      <th>sibsp</th>\n",
       "      <th>parch</th>\n",
       "      <th>ticket</th>\n",
       "      <th>fare</th>\n",
       "      <th>cabin</th>\n",
       "      <th>embarked</th>\n",
       "      <th>alone</th>\n",
       "      <th>deck</th>\n",
       "      <th>age_group</th>\n",
       "    </tr>\n",
       "  </thead>\n",
       "  <tbody>\n",
       "    <tr>\n",
       "      <th>0</th>\n",
       "      <td>no</td>\n",
       "      <td>3</td>\n",
       "      <td>male</td>\n",
       "      <td>22.0</td>\n",
       "      <td>1</td>\n",
       "      <td>0</td>\n",
       "      <td>A/5 21171</td>\n",
       "      <td>7.2500</td>\n",
       "      <td>NaN</td>\n",
       "      <td>S</td>\n",
       "      <td>no</td>\n",
       "      <td>NaN</td>\n",
       "      <td>20 ~ 30</td>\n",
       "    </tr>\n",
       "    <tr>\n",
       "      <th>1</th>\n",
       "      <td>yes</td>\n",
       "      <td>1</td>\n",
       "      <td>female</td>\n",
       "      <td>38.0</td>\n",
       "      <td>1</td>\n",
       "      <td>0</td>\n",
       "      <td>PC 17599</td>\n",
       "      <td>71.2833</td>\n",
       "      <td>C85</td>\n",
       "      <td>C</td>\n",
       "      <td>no</td>\n",
       "      <td>C</td>\n",
       "      <td>30 ~ 40</td>\n",
       "    </tr>\n",
       "    <tr>\n",
       "      <th>2</th>\n",
       "      <td>yes</td>\n",
       "      <td>3</td>\n",
       "      <td>female</td>\n",
       "      <td>26.0</td>\n",
       "      <td>0</td>\n",
       "      <td>0</td>\n",
       "      <td>STON/O2. 3101282</td>\n",
       "      <td>7.9250</td>\n",
       "      <td>NaN</td>\n",
       "      <td>S</td>\n",
       "      <td>yes</td>\n",
       "      <td>NaN</td>\n",
       "      <td>20 ~ 30</td>\n",
       "    </tr>\n",
       "    <tr>\n",
       "      <th>3</th>\n",
       "      <td>yes</td>\n",
       "      <td>1</td>\n",
       "      <td>female</td>\n",
       "      <td>35.0</td>\n",
       "      <td>1</td>\n",
       "      <td>0</td>\n",
       "      <td>113803</td>\n",
       "      <td>53.1000</td>\n",
       "      <td>C123</td>\n",
       "      <td>S</td>\n",
       "      <td>no</td>\n",
       "      <td>C</td>\n",
       "      <td>30 ~ 40</td>\n",
       "    </tr>\n",
       "    <tr>\n",
       "      <th>4</th>\n",
       "      <td>no</td>\n",
       "      <td>3</td>\n",
       "      <td>male</td>\n",
       "      <td>35.0</td>\n",
       "      <td>0</td>\n",
       "      <td>0</td>\n",
       "      <td>373450</td>\n",
       "      <td>8.0500</td>\n",
       "      <td>NaN</td>\n",
       "      <td>S</td>\n",
       "      <td>yes</td>\n",
       "      <td>NaN</td>\n",
       "      <td>30 ~ 40</td>\n",
       "    </tr>\n",
       "    <tr>\n",
       "      <th>...</th>\n",
       "      <td>...</td>\n",
       "      <td>...</td>\n",
       "      <td>...</td>\n",
       "      <td>...</td>\n",
       "      <td>...</td>\n",
       "      <td>...</td>\n",
       "      <td>...</td>\n",
       "      <td>...</td>\n",
       "      <td>...</td>\n",
       "      <td>...</td>\n",
       "      <td>...</td>\n",
       "      <td>...</td>\n",
       "      <td>...</td>\n",
       "    </tr>\n",
       "    <tr>\n",
       "      <th>886</th>\n",
       "      <td>no</td>\n",
       "      <td>2</td>\n",
       "      <td>male</td>\n",
       "      <td>27.0</td>\n",
       "      <td>0</td>\n",
       "      <td>0</td>\n",
       "      <td>211536</td>\n",
       "      <td>13.0000</td>\n",
       "      <td>NaN</td>\n",
       "      <td>S</td>\n",
       "      <td>yes</td>\n",
       "      <td>NaN</td>\n",
       "      <td>20 ~ 30</td>\n",
       "    </tr>\n",
       "    <tr>\n",
       "      <th>887</th>\n",
       "      <td>yes</td>\n",
       "      <td>1</td>\n",
       "      <td>female</td>\n",
       "      <td>19.0</td>\n",
       "      <td>0</td>\n",
       "      <td>0</td>\n",
       "      <td>112053</td>\n",
       "      <td>30.0000</td>\n",
       "      <td>B42</td>\n",
       "      <td>S</td>\n",
       "      <td>yes</td>\n",
       "      <td>B</td>\n",
       "      <td>10 ~ 20</td>\n",
       "    </tr>\n",
       "    <tr>\n",
       "      <th>888</th>\n",
       "      <td>no</td>\n",
       "      <td>3</td>\n",
       "      <td>female</td>\n",
       "      <td>NaN</td>\n",
       "      <td>1</td>\n",
       "      <td>2</td>\n",
       "      <td>W./C. 6607</td>\n",
       "      <td>23.4500</td>\n",
       "      <td>NaN</td>\n",
       "      <td>S</td>\n",
       "      <td>no</td>\n",
       "      <td>NaN</td>\n",
       "      <td>None</td>\n",
       "    </tr>\n",
       "    <tr>\n",
       "      <th>889</th>\n",
       "      <td>yes</td>\n",
       "      <td>1</td>\n",
       "      <td>male</td>\n",
       "      <td>26.0</td>\n",
       "      <td>0</td>\n",
       "      <td>0</td>\n",
       "      <td>111369</td>\n",
       "      <td>30.0000</td>\n",
       "      <td>C148</td>\n",
       "      <td>C</td>\n",
       "      <td>yes</td>\n",
       "      <td>C</td>\n",
       "      <td>20 ~ 30</td>\n",
       "    </tr>\n",
       "    <tr>\n",
       "      <th>890</th>\n",
       "      <td>no</td>\n",
       "      <td>3</td>\n",
       "      <td>male</td>\n",
       "      <td>32.0</td>\n",
       "      <td>0</td>\n",
       "      <td>0</td>\n",
       "      <td>370376</td>\n",
       "      <td>7.7500</td>\n",
       "      <td>NaN</td>\n",
       "      <td>Q</td>\n",
       "      <td>yes</td>\n",
       "      <td>NaN</td>\n",
       "      <td>30 ~ 40</td>\n",
       "    </tr>\n",
       "  </tbody>\n",
       "</table>\n",
       "<p>891 rows × 13 columns</p>\n",
       "</div>"
      ],
      "text/plain": [
       "    survived pclass     sex   age  sibsp  parch            ticket     fare  \\\n",
       "0         no      3    male  22.0      1      0         A/5 21171   7.2500   \n",
       "1        yes      1  female  38.0      1      0          PC 17599  71.2833   \n",
       "2        yes      3  female  26.0      0      0  STON/O2. 3101282   7.9250   \n",
       "3        yes      1  female  35.0      1      0            113803  53.1000   \n",
       "4         no      3    male  35.0      0      0            373450   8.0500   \n",
       "..       ...    ...     ...   ...    ...    ...               ...      ...   \n",
       "886       no      2    male  27.0      0      0            211536  13.0000   \n",
       "887      yes      1  female  19.0      0      0            112053  30.0000   \n",
       "888       no      3  female   NaN      1      2        W./C. 6607  23.4500   \n",
       "889      yes      1    male  26.0      0      0            111369  30.0000   \n",
       "890       no      3    male  32.0      0      0            370376   7.7500   \n",
       "\n",
       "    cabin embarked alone deck age_group  \n",
       "0     NaN        S    no  NaN   20 ~ 30  \n",
       "1     C85        C    no    C   30 ~ 40  \n",
       "2     NaN        S   yes  NaN   20 ~ 30  \n",
       "3    C123        S    no    C   30 ~ 40  \n",
       "4     NaN        S   yes  NaN   30 ~ 40  \n",
       "..    ...      ...   ...  ...       ...  \n",
       "886   NaN        S   yes  NaN   20 ~ 30  \n",
       "887   B42        S   yes    B   10 ~ 20  \n",
       "888   NaN        S    no  NaN      None  \n",
       "889  C148        C   yes    C   20 ~ 30  \n",
       "890   NaN        Q   yes  NaN   30 ~ 40  \n",
       "\n",
       "[891 rows x 13 columns]"
      ]
     },
     "execution_count": 22,
     "metadata": {},
     "output_type": "execute_result"
    }
   ],
   "source": [
    "# Creat a new column that shows which group the ages belong to\n",
    "def age_group(num):\n",
    "    for i in range(1, 100):\n",
    "        if num < 10*i :  return f'{(i-1) * 10} ~ {i*10}'\n",
    "\n",
    "titanic_dataset['age_group'] = titanic_dataset['age'].apply(age_group)\n",
    "titanic_dataset"
   ]
  },
  {
   "cell_type": "code",
   "execution_count": 23,
   "id": "9b97169a-e77d-4903-8102-b62f78fb782f",
   "metadata": {},
   "outputs": [
    {
     "data": {
      "text/html": [
       "<div>\n",
       "<style scoped>\n",
       "    .dataframe tbody tr th:only-of-type {\n",
       "        vertical-align: middle;\n",
       "    }\n",
       "\n",
       "    .dataframe tbody tr th {\n",
       "        vertical-align: top;\n",
       "    }\n",
       "\n",
       "    .dataframe thead th {\n",
       "        text-align: right;\n",
       "    }\n",
       "</style>\n",
       "<table border=\"1\" class=\"dataframe\">\n",
       "  <thead>\n",
       "    <tr style=\"text-align: right;\">\n",
       "      <th>survived</th>\n",
       "      <th>no</th>\n",
       "      <th>yes</th>\n",
       "    </tr>\n",
       "    <tr>\n",
       "      <th>age_group</th>\n",
       "      <th></th>\n",
       "      <th></th>\n",
       "    </tr>\n",
       "  </thead>\n",
       "  <tbody>\n",
       "    <tr>\n",
       "      <th>0 ~ 10</th>\n",
       "      <td>24</td>\n",
       "      <td>38</td>\n",
       "    </tr>\n",
       "    <tr>\n",
       "      <th>10 ~ 20</th>\n",
       "      <td>61</td>\n",
       "      <td>41</td>\n",
       "    </tr>\n",
       "    <tr>\n",
       "      <th>20 ~ 30</th>\n",
       "      <td>143</td>\n",
       "      <td>77</td>\n",
       "    </tr>\n",
       "    <tr>\n",
       "      <th>30 ~ 40</th>\n",
       "      <td>94</td>\n",
       "      <td>73</td>\n",
       "    </tr>\n",
       "    <tr>\n",
       "      <th>40 ~ 50</th>\n",
       "      <td>55</td>\n",
       "      <td>34</td>\n",
       "    </tr>\n",
       "    <tr>\n",
       "      <th>50 ~ 60</th>\n",
       "      <td>28</td>\n",
       "      <td>20</td>\n",
       "    </tr>\n",
       "    <tr>\n",
       "      <th>60 ~ 70</th>\n",
       "      <td>13</td>\n",
       "      <td>6</td>\n",
       "    </tr>\n",
       "    <tr>\n",
       "      <th>70 ~ 80</th>\n",
       "      <td>6</td>\n",
       "      <td>0</td>\n",
       "    </tr>\n",
       "    <tr>\n",
       "      <th>80 ~ 90</th>\n",
       "      <td>0</td>\n",
       "      <td>1</td>\n",
       "    </tr>\n",
       "  </tbody>\n",
       "</table>\n",
       "</div>"
      ],
      "text/plain": [
       "survived    no  yes\n",
       "age_group          \n",
       "0 ~ 10      24   38\n",
       "10 ~ 20     61   41\n",
       "20 ~ 30    143   77\n",
       "30 ~ 40     94   73\n",
       "40 ~ 50     55   34\n",
       "50 ~ 60     28   20\n",
       "60 ~ 70     13    6\n",
       "70 ~ 80      6    0\n",
       "80 ~ 90      0    1"
      ]
     },
     "execution_count": 23,
     "metadata": {},
     "output_type": "execute_result"
    }
   ],
   "source": [
    "# Calculates the number of survivors and non-survivors within each age group\n",
    "survivors = titanic_dataset[['age_group', 'survived']].groupby('age_group')['survived'].value_counts().unstack().fillna(0).sort_index()\n",
    "survivors\n"
   ]
  },
  {
   "cell_type": "code",
   "execution_count": 24,
   "id": "b0790db2-cfe0-4ec4-a065-330d11cf827e",
   "metadata": {},
   "outputs": [
    {
     "data": {
      "text/html": [
       "<div>\n",
       "<style scoped>\n",
       "    .dataframe tbody tr th:only-of-type {\n",
       "        vertical-align: middle;\n",
       "    }\n",
       "\n",
       "    .dataframe tbody tr th {\n",
       "        vertical-align: top;\n",
       "    }\n",
       "\n",
       "    .dataframe thead th {\n",
       "        text-align: right;\n",
       "    }\n",
       "</style>\n",
       "<table border=\"1\" class=\"dataframe\">\n",
       "  <thead>\n",
       "    <tr style=\"text-align: right;\">\n",
       "      <th>survived</th>\n",
       "      <th>no</th>\n",
       "      <th>yes</th>\n",
       "      <th>survival rate</th>\n",
       "    </tr>\n",
       "    <tr>\n",
       "      <th>age_group</th>\n",
       "      <th></th>\n",
       "      <th></th>\n",
       "      <th></th>\n",
       "    </tr>\n",
       "  </thead>\n",
       "  <tbody>\n",
       "    <tr>\n",
       "      <th>0 ~ 10</th>\n",
       "      <td>24</td>\n",
       "      <td>38</td>\n",
       "      <td>61.29</td>\n",
       "    </tr>\n",
       "    <tr>\n",
       "      <th>10 ~ 20</th>\n",
       "      <td>61</td>\n",
       "      <td>41</td>\n",
       "      <td>40.20</td>\n",
       "    </tr>\n",
       "    <tr>\n",
       "      <th>20 ~ 30</th>\n",
       "      <td>143</td>\n",
       "      <td>77</td>\n",
       "      <td>35.00</td>\n",
       "    </tr>\n",
       "    <tr>\n",
       "      <th>30 ~ 40</th>\n",
       "      <td>94</td>\n",
       "      <td>73</td>\n",
       "      <td>43.71</td>\n",
       "    </tr>\n",
       "    <tr>\n",
       "      <th>40 ~ 50</th>\n",
       "      <td>55</td>\n",
       "      <td>34</td>\n",
       "      <td>38.20</td>\n",
       "    </tr>\n",
       "    <tr>\n",
       "      <th>50 ~ 60</th>\n",
       "      <td>28</td>\n",
       "      <td>20</td>\n",
       "      <td>41.67</td>\n",
       "    </tr>\n",
       "    <tr>\n",
       "      <th>60 ~ 70</th>\n",
       "      <td>13</td>\n",
       "      <td>6</td>\n",
       "      <td>31.58</td>\n",
       "    </tr>\n",
       "    <tr>\n",
       "      <th>70 ~ 80</th>\n",
       "      <td>6</td>\n",
       "      <td>0</td>\n",
       "      <td>0.00</td>\n",
       "    </tr>\n",
       "    <tr>\n",
       "      <th>80 ~ 90</th>\n",
       "      <td>0</td>\n",
       "      <td>1</td>\n",
       "      <td>100.00</td>\n",
       "    </tr>\n",
       "  </tbody>\n",
       "</table>\n",
       "</div>"
      ],
      "text/plain": [
       "survived    no  yes  survival rate\n",
       "age_group                         \n",
       "0 ~ 10      24   38          61.29\n",
       "10 ~ 20     61   41          40.20\n",
       "20 ~ 30    143   77          35.00\n",
       "30 ~ 40     94   73          43.71\n",
       "40 ~ 50     55   34          38.20\n",
       "50 ~ 60     28   20          41.67\n",
       "60 ~ 70     13    6          31.58\n",
       "70 ~ 80      6    0           0.00\n",
       "80 ~ 90      0    1         100.00"
      ]
     },
     "execution_count": 24,
     "metadata": {},
     "output_type": "execute_result"
    }
   ],
   "source": [
    "# Calculate the survivial rate of each group\n",
    "survivors['survival rate'] = (survivors['yes'] / (survivors['no'] + survivors['yes']) * 100).round(2)\n",
    "survivors\n"
   ]
  },
  {
   "cell_type": "markdown",
   "id": "cde8fcd0-2f2d-41b5-8d89-2dac0d021e74",
   "metadata": {},
   "source": [
    "#### Exploration: Did being alone increase chances of survival"
   ]
  },
  {
   "cell_type": "code",
   "execution_count": 25,
   "id": "b4e7884e-c20a-4209-9dd0-431ad24f7b97",
   "metadata": {},
   "outputs": [
    {
     "data": {
      "text/plain": [
       "<Axes: xlabel='age_group', ylabel='alone'>"
      ]
     },
     "execution_count": 25,
     "metadata": {},
     "output_type": "execute_result"
    },
    {
     "data": {
      "image/png": "[encoded data removed]",
      "text/plain": [
       "<Figure size 640x480 with 1 Axes>"
      ]
     },
     "metadata": {},
     "output_type": "display_data"
    }
   ],
   "source": [
    "# Graph # Utilizing the Seaborn library\n",
    "\n",
    "# Remove all rows that have NaN values from the cabin column\n",
    "#graph1_df=titanic_dataset.dropna(subset=['cabin'])\n",
    "\n",
    "# Sort the DataFrame by \"deck\" to ensure output graph is sorted by deck\n",
    "#graph2_df = titanic_dataset.sort_values('age_group')\n",
    "\n",
    "sns.set_theme(style=\"whitegrid\")\n",
    "\n",
    "# Draw a nested barplot by deck and sex\n",
    "sns.histplot(titanic_dataset, x=\"age_group\", y=\"alone\")\n",
    "\n",
    "#g.despine(left=True)\n",
    "#g.set_axis_labels(\"Age Group\", \"Age\")\n",
    "#g.legend.set_title(\"\")"
   ]
  },
  {
   "cell_type": "markdown",
   "id": "8956e933-dd26-4bea-8b81-51ae73004806",
   "metadata": {},
   "source": [
    "#### Visualize the distribution of numerical data to identify any patterns or anomalies"
   ]
  },
  {
   "cell_type": "code",
   "execution_count": 26,
   "id": "54718c34-34bb-42df-aa11-c712f54d7a72",
   "metadata": {},
   "outputs": [
    {
     "data": {
      "text/plain": [
       "array([[<Axes: title={'center': 'age'}>,\n",
       "        <Axes: title={'center': 'sibsp'}>],\n",
       "       [<Axes: title={'center': 'parch'}>,\n",
       "        <Axes: title={'center': 'fare'}>]], dtype=object)"
      ]
     },
     "execution_count": 26,
     "metadata": {},
     "output_type": "execute_result"
    },
    {
     "data": {
      "image/png": "[encoded data removed]",
      "text/plain": [
       "<Figure size 640x480 with 4 Axes>"
      ]
     },
     "metadata": {},
     "output_type": "display_data"
    }
   ],
   "source": [
    "titanic_dataset.hist(bins=20)"
   ]
  },
  {
   "cell_type": "markdown",
   "id": "4a74c79d-65d1-4efc-a778-2cf34c012dac",
   "metadata": {},
   "source": [
    "- Generating histograms for each numerical column and adding the bins=20 argument specifying that 20 bins should be used for the histograms.\n",
    "\n",
    "- This will create a series of histograms, one for each numerical column in the dataset, showing the distribution of values within each column. The x-axis of each histogram will represent the range of values in the column, and the y-axis will represent the frequency of values within each bin."
   ]
  }
 ],
 "metadata": {
  "kernelspec": {
   "display_name": "titanic2_env-kernel",
   "language": "python",
   "name": "titanic2_env-kernel"
  },
  "language_info": {
   "codemirror_mode": {
    "name": "ipython",
    "version": 3
   },
   "file_extension": ".py",
   "mimetype": "text/x-python",
   "name": "python",
   "nbconvert_exporter": "python",
   "pygments_lexer": "ipython3",
   "version": "3.9.19"
  }
 },
 "nbformat": 4,
 "nbformat_minor": 5
}
